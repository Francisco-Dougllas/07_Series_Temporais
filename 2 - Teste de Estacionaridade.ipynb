{
 "cells": [
  {
   "cell_type": "markdown",
   "id": "f497b99a",
   "metadata": {},
   "source": [
    "# Teste de Estacionaridade"
   ]
  },
  {
   "cell_type": "code",
   "execution_count": 1,
   "id": "096c5938",
   "metadata": {},
   "outputs": [],
   "source": [
    "# Importando as bibliotecas\n",
    "import pandas as pd\n",
    "import numpy as np\n",
    "import matplotlib.pyplot as plt\n",
    "import seaborn as sns\n",
    "sns.set()\n",
    "%matplotlib inline"
   ]
  },
  {
   "cell_type": "code",
   "execution_count": 2,
   "id": "f964a698",
   "metadata": {},
   "outputs": [],
   "source": [
    "# Figura\n",
    "from matplotlib.pylab import rcParams\n",
    "rcParams['figure.figsize'] = 15, 6"
   ]
  },
  {
   "cell_type": "markdown",
   "id": "76d26ef3",
   "metadata": {},
   "source": [
    "## Criação da Série"
   ]
  },
  {
   "cell_type": "code",
   "execution_count": 3,
   "id": "d1893452",
   "metadata": {},
   "outputs": [
    {
     "data": {
      "text/plain": [
       "array([ 1.3315865 ,  0.71527897, -1.54540029, -0.00838385,  0.62133597,\n",
       "       -0.72008556,  0.26551159,  0.10854853,  0.00429143, -0.17460021,\n",
       "        0.43302619,  1.20303737, -0.96506567,  1.02827408,  0.22863013,\n",
       "        0.44513761, -1.13660221,  0.13513688,  1.484537  , -1.07980489,\n",
       "       -1.97772828, -1.7433723 ,  0.26607016,  2.38496733,  1.12369125,\n",
       "        1.67262221,  0.09914922,  1.39799638, -0.27124799,  0.61320418,\n",
       "       -0.26731719, -0.54930901,  0.1327083 , -0.47614201,  1.30847308,\n",
       "        0.19501328,  0.40020999, -0.33763234,  1.25647226, -0.7319695 ,\n",
       "        0.66023155])"
      ]
     },
     "execution_count": 3,
     "metadata": {},
     "output_type": "execute_result"
    }
   ],
   "source": [
    "# criando os dados\n",
    "np.random.seed(10)\n",
    "dados1 = np.random.normal(0, 1, 41)\n",
    "dados1"
   ]
  },
  {
   "cell_type": "code",
   "execution_count": 4,
   "id": "af86e51f",
   "metadata": {},
   "outputs": [
    {
     "data": {
      "text/html": [
       "<div>\n",
       "<style scoped>\n",
       "    .dataframe tbody tr th:only-of-type {\n",
       "        vertical-align: middle;\n",
       "    }\n",
       "\n",
       "    .dataframe tbody tr th {\n",
       "        vertical-align: top;\n",
       "    }\n",
       "\n",
       "    .dataframe thead th {\n",
       "        text-align: right;\n",
       "    }\n",
       "</style>\n",
       "<table border=\"1\" class=\"dataframe\">\n",
       "  <thead>\n",
       "    <tr style=\"text-align: right;\">\n",
       "      <th></th>\n",
       "      <th>0</th>\n",
       "    </tr>\n",
       "  </thead>\n",
       "  <tbody>\n",
       "    <tr>\n",
       "      <th>0</th>\n",
       "      <td>1.331587</td>\n",
       "    </tr>\n",
       "    <tr>\n",
       "      <th>1</th>\n",
       "      <td>0.715279</td>\n",
       "    </tr>\n",
       "    <tr>\n",
       "      <th>2</th>\n",
       "      <td>-1.545400</td>\n",
       "    </tr>\n",
       "    <tr>\n",
       "      <th>3</th>\n",
       "      <td>-0.008384</td>\n",
       "    </tr>\n",
       "    <tr>\n",
       "      <th>4</th>\n",
       "      <td>0.621336</td>\n",
       "    </tr>\n",
       "  </tbody>\n",
       "</table>\n",
       "</div>"
      ],
      "text/plain": [
       "          0\n",
       "0  1.331587\n",
       "1  0.715279\n",
       "2 -1.545400\n",
       "3 -0.008384\n",
       "4  0.621336"
      ]
     },
     "execution_count": 4,
     "metadata": {},
     "output_type": "execute_result"
    }
   ],
   "source": [
    "# Criando o dataframe\n",
    "dados1 = pd.DataFrame(dados1)\n",
    "dados1.head()"
   ]
  },
  {
   "cell_type": "code",
   "execution_count": 5,
   "id": "145eb58b",
   "metadata": {},
   "outputs": [
    {
     "data": {
      "text/html": [
       "<div>\n",
       "<style scoped>\n",
       "    .dataframe tbody tr th:only-of-type {\n",
       "        vertical-align: middle;\n",
       "    }\n",
       "\n",
       "    .dataframe tbody tr th {\n",
       "        vertical-align: top;\n",
       "    }\n",
       "\n",
       "    .dataframe thead th {\n",
       "        text-align: right;\n",
       "    }\n",
       "</style>\n",
       "<table border=\"1\" class=\"dataframe\">\n",
       "  <thead>\n",
       "    <tr style=\"text-align: right;\">\n",
       "      <th></th>\n",
       "      <th>Valores</th>\n",
       "    </tr>\n",
       "  </thead>\n",
       "  <tbody>\n",
       "    <tr>\n",
       "      <th>0</th>\n",
       "      <td>1.331587</td>\n",
       "    </tr>\n",
       "    <tr>\n",
       "      <th>1</th>\n",
       "      <td>0.715279</td>\n",
       "    </tr>\n",
       "    <tr>\n",
       "      <th>2</th>\n",
       "      <td>-1.545400</td>\n",
       "    </tr>\n",
       "  </tbody>\n",
       "</table>\n",
       "</div>"
      ],
      "text/plain": [
       "    Valores\n",
       "0  1.331587\n",
       "1  0.715279\n",
       "2 -1.545400"
      ]
     },
     "execution_count": 5,
     "metadata": {},
     "output_type": "execute_result"
    }
   ],
   "source": [
    "# Renomeando a coluns\n",
    "dados1.columns = ['Valores']\n",
    "dados1.head(3)"
   ]
  },
  {
   "cell_type": "code",
   "execution_count": 6,
   "id": "4669e471",
   "metadata": {},
   "outputs": [
    {
     "data": {
      "text/plain": [
       "(41, 1)"
      ]
     },
     "execution_count": 6,
     "metadata": {},
     "output_type": "execute_result"
    }
   ],
   "source": [
    "# Shape\n",
    "dados1.shape"
   ]
  },
  {
   "cell_type": "code",
   "execution_count": 7,
   "id": "55442737",
   "metadata": {},
   "outputs": [
    {
     "data": {
      "text/html": [
       "<div>\n",
       "<style scoped>\n",
       "    .dataframe tbody tr th:only-of-type {\n",
       "        vertical-align: middle;\n",
       "    }\n",
       "\n",
       "    .dataframe tbody tr th {\n",
       "        vertical-align: top;\n",
       "    }\n",
       "\n",
       "    .dataframe thead th {\n",
       "        text-align: right;\n",
       "    }\n",
       "</style>\n",
       "<table border=\"1\" class=\"dataframe\">\n",
       "  <thead>\n",
       "    <tr style=\"text-align: right;\">\n",
       "      <th></th>\n",
       "      <th>Valores</th>\n",
       "    </tr>\n",
       "  </thead>\n",
       "  <tbody>\n",
       "    <tr>\n",
       "      <th>count</th>\n",
       "      <td>41.000000</td>\n",
       "    </tr>\n",
       "    <tr>\n",
       "      <th>mean</th>\n",
       "      <td>0.183670</td>\n",
       "    </tr>\n",
       "    <tr>\n",
       "      <th>std</th>\n",
       "      <td>0.964847</td>\n",
       "    </tr>\n",
       "    <tr>\n",
       "      <th>min</th>\n",
       "      <td>-1.977728</td>\n",
       "    </tr>\n",
       "    <tr>\n",
       "      <th>25%</th>\n",
       "      <td>-0.337632</td>\n",
       "    </tr>\n",
       "    <tr>\n",
       "      <th>50%</th>\n",
       "      <td>0.195013</td>\n",
       "    </tr>\n",
       "    <tr>\n",
       "      <th>75%</th>\n",
       "      <td>0.715279</td>\n",
       "    </tr>\n",
       "    <tr>\n",
       "      <th>max</th>\n",
       "      <td>2.384967</td>\n",
       "    </tr>\n",
       "  </tbody>\n",
       "</table>\n",
       "</div>"
      ],
      "text/plain": [
       "         Valores\n",
       "count  41.000000\n",
       "mean    0.183670\n",
       "std     0.964847\n",
       "min    -1.977728\n",
       "25%    -0.337632\n",
       "50%     0.195013\n",
       "75%     0.715279\n",
       "max     2.384967"
      ]
     },
     "execution_count": 7,
     "metadata": {},
     "output_type": "execute_result"
    }
   ],
   "source": [
    "# Descrição\n",
    "dados1.describe()"
   ]
  },
  {
   "cell_type": "code",
   "execution_count": 8,
   "id": "9f125b0b",
   "metadata": {},
   "outputs": [
    {
     "data": {
      "text/plain": [
       "DatetimeIndex(['1980-12-31', '1981-12-31', '1982-12-31', '1983-12-31',\n",
       "               '1984-12-31', '1985-12-31', '1986-12-31', '1987-12-31',\n",
       "               '1988-12-31', '1989-12-31', '1990-12-31', '1991-12-31',\n",
       "               '1992-12-31', '1993-12-31', '1994-12-31', '1995-12-31',\n",
       "               '1996-12-31', '1997-12-31', '1998-12-31', '1999-12-31',\n",
       "               '2000-12-31', '2001-12-31', '2002-12-31', '2003-12-31',\n",
       "               '2004-12-31', '2005-12-31', '2006-12-31', '2007-12-31',\n",
       "               '2008-12-31', '2009-12-31', '2010-12-31', '2011-12-31',\n",
       "               '2012-12-31', '2013-12-31', '2014-12-31', '2015-12-31',\n",
       "               '2016-12-31', '2017-12-31', '2018-12-31', '2019-12-31',\n",
       "               '2020-12-31'],\n",
       "              dtype='datetime64[ns]', freq='A-DEC')"
      ]
     },
     "execution_count": 8,
     "metadata": {},
     "output_type": "execute_result"
    }
   ],
   "source": [
    "# Criando o indice\n",
    "indice = pd.date_range('1980', periods=len(dados1), freq='Y')\n",
    "indice"
   ]
  },
  {
   "cell_type": "code",
   "execution_count": 9,
   "id": "57ec4a13",
   "metadata": {},
   "outputs": [
    {
     "data": {
      "text/plain": [
       "1980-12-31    1.331587\n",
       "1981-12-31    0.715279\n",
       "1982-12-31   -1.545400\n",
       "1983-12-31   -0.008384\n",
       "1984-12-31    0.621336\n",
       "1985-12-31   -0.720086\n",
       "1986-12-31    0.265512\n",
       "1987-12-31    0.108549\n",
       "1988-12-31    0.004291\n",
       "1989-12-31   -0.174600\n",
       "1990-12-31    0.433026\n",
       "1991-12-31    1.203037\n",
       "1992-12-31   -0.965066\n",
       "1993-12-31    1.028274\n",
       "1994-12-31    0.228630\n",
       "1995-12-31    0.445138\n",
       "1996-12-31   -1.136602\n",
       "1997-12-31    0.135137\n",
       "1998-12-31    1.484537\n",
       "1999-12-31   -1.079805\n",
       "2000-12-31   -1.977728\n",
       "2001-12-31   -1.743372\n",
       "2002-12-31    0.266070\n",
       "2003-12-31    2.384967\n",
       "2004-12-31    1.123691\n",
       "2005-12-31    1.672622\n",
       "2006-12-31    0.099149\n",
       "2007-12-31    1.397996\n",
       "2008-12-31   -0.271248\n",
       "2009-12-31    0.613204\n",
       "2010-12-31   -0.267317\n",
       "2011-12-31   -0.549309\n",
       "2012-12-31    0.132708\n",
       "2013-12-31   -0.476142\n",
       "2014-12-31    1.308473\n",
       "2015-12-31    0.195013\n",
       "2016-12-31    0.400210\n",
       "2017-12-31   -0.337632\n",
       "2018-12-31    1.256472\n",
       "2019-12-31   -0.731970\n",
       "2020-12-31    0.660232\n",
       "Freq: A-DEC, dtype: float64"
      ]
     },
     "execution_count": 9,
     "metadata": {},
     "output_type": "execute_result"
    }
   ],
   "source": [
    "# Criando a serie\n",
    "serie1 = pd.Series(dados1['Valores'].values, index=indice)\n",
    "serie1"
   ]
  },
  {
   "cell_type": "code",
   "execution_count": 10,
   "id": "168ace5b",
   "metadata": {},
   "outputs": [
    {
     "data": {
      "image/png": "[encoded data removed]",
      "text/plain": [
       "<Figure size 1500x600 with 1 Axes>"
      ]
     },
     "metadata": {},
     "output_type": "display_data"
    }
   ],
   "source": [
    "# Plot\n",
    "serie1.plot();"
   ]
  },
  {
   "cell_type": "markdown",
   "id": "b1870765",
   "metadata": {},
   "source": [
    "# TESTE DE ESTACIONARIDADE"
   ]
  },
  {
   "cell_type": "code",
   "execution_count": 11,
   "id": "64952892",
   "metadata": {},
   "outputs": [],
   "source": [
    "import statsmodels.tsa.stattools"
   ]
  },
  {
   "cell_type": "markdown",
   "id": "92f13f40",
   "metadata": {},
   "source": [
    "Teste KPSS (Kwiatkowski-Phillips-Schmidt-Shin)\n",
    "\n",
    "    Ho = Não estacionario: Estatistica do Teste > valor critico\n",
    "    Ha = É Estationario: Estatistica do teste < valor critico"
   ]
  },
  {
   "cell_type": "code",
   "execution_count": 12,
   "id": "d604a3e8",
   "metadata": {},
   "outputs": [
    {
     "name": "stderr",
     "output_type": "stream",
     "text": [
      "C:\\Users\\franc\\anaconda3\\envs\\Data-Science\\lib\\site-packages\\statsmodels\\tsa\\stattools.py:2022: InterpolationWarning: The test statistic is outside of the range of p-values available in the\n",
      "look-up table. The actual p-value is greater than the p-value returned.\n",
      "\n",
      "  warnings.warn(\n"
     ]
    },
    {
     "data": {
      "text/plain": [
       "(0.0685962789581985,\n",
       " 0.1,\n",
       " 0,\n",
       " {'10%': 0.347, '5%': 0.463, '2.5%': 0.574, '1%': 0.739})"
      ]
     },
     "execution_count": 12,
     "metadata": {},
     "output_type": "execute_result"
    }
   ],
   "source": [
    "# teste\n",
    "statsmodels.tsa.stattools.kpss(serie1)"
   ]
  },
  {
   "cell_type": "code",
   "execution_count": 13,
   "id": "31e1b325",
   "metadata": {},
   "outputs": [
    {
     "name": "stdout",
     "output_type": "stream",
     "text": [
      "Estatistica do teste: 0.0686\n",
      "P-valor: 0.1000\n",
      "Valores Criticos: \n",
      "10%: 0.3470\n",
      "5%: 0.4630\n",
      "2.5%: 0.5740\n",
      "1%: 0.7390\n"
     ]
    },
    {
     "name": "stderr",
     "output_type": "stream",
     "text": [
      "C:\\Users\\franc\\anaconda3\\envs\\Data-Science\\lib\\site-packages\\statsmodels\\tsa\\stattools.py:2022: InterpolationWarning: The test statistic is outside of the range of p-values available in the\n",
      "look-up table. The actual p-value is greater than the p-value returned.\n",
      "\n",
      "  warnings.warn(\n"
     ]
    }
   ],
   "source": [
    "kpss = statsmodels.tsa.stattools.kpss(serie1)\n",
    "print(f'Estatistica do teste: {kpss[0]:.4f}')\n",
    "print(f'P-valor: {kpss[1]:.4f}')\n",
    "print(f'Valores Criticos: ')\n",
    "for chave, valor in kpss[3].items():\n",
    "    print(f'{chave}: {valor:.4f}')"
   ]
  },
  {
   "cell_type": "markdown",
   "id": "96ab609b",
   "metadata": {},
   "source": [
    "**Teste df (Dickey Fuller)**\n",
    "\n",
    "    Ho = Não e Estacionario: Estatistica do teste > valor critico\n",
    "    Ha = E Estacionario: Estatistica do Teste < valor critico"
   ]
  },
  {
   "cell_type": "code",
   "execution_count": 14,
   "id": "b3a3b29b",
   "metadata": {},
   "outputs": [
    {
     "name": "stdout",
     "output_type": "stream",
     "text": [
      "Estatistica de Teste: -5.8642\n",
      "P-valor: 0.0000\n",
      "Valores Criticos: \n",
      "1%: -3.6056\n",
      "5%: -2.9371\n",
      "10%: -2.6070\n"
     ]
    }
   ],
   "source": [
    "df = statsmodels.tsa.stattools.adfuller(serie1)\n",
    "print(f'Estatistica de Teste: {df[0]:.4f}')\n",
    "print(f'P-valor: {df[1]:.4f}')\n",
    "print(f'Valores Criticos: ')\n",
    "for chave, valor in df[4].items():\n",
    "    print(f'{chave}: {valor:.4f}')"
   ]
  },
  {
   "cell_type": "markdown",
   "id": "f276f377",
   "metadata": {},
   "source": [
    "# Dataset Importado"
   ]
  },
  {
   "cell_type": "markdown",
   "id": "04e77112",
   "metadata": {},
   "source": [
    "### **AirPassengers: Dados Classicos da companhia aérea Box & Jenkins. Totais mensais de passageiros de companhias aéreas internacionas, 1949 a 1960**"
   ]
  },
  {
   "cell_type": "code",
   "execution_count": 15,
   "id": "2a4296cd",
   "metadata": {},
   "outputs": [
    {
     "data": {
      "text/html": [
       "<div>\n",
       "<style scoped>\n",
       "    .dataframe tbody tr th:only-of-type {\n",
       "        vertical-align: middle;\n",
       "    }\n",
       "\n",
       "    .dataframe tbody tr th {\n",
       "        vertical-align: top;\n",
       "    }\n",
       "\n",
       "    .dataframe thead th {\n",
       "        text-align: right;\n",
       "    }\n",
       "</style>\n",
       "<table border=\"1\" class=\"dataframe\">\n",
       "  <thead>\n",
       "    <tr style=\"text-align: right;\">\n",
       "      <th></th>\n",
       "      <th>Month</th>\n",
       "      <th>#Passengers</th>\n",
       "    </tr>\n",
       "  </thead>\n",
       "  <tbody>\n",
       "    <tr>\n",
       "      <th>0</th>\n",
       "      <td>1949-01</td>\n",
       "      <td>112</td>\n",
       "    </tr>\n",
       "    <tr>\n",
       "      <th>1</th>\n",
       "      <td>1949-02</td>\n",
       "      <td>118</td>\n",
       "    </tr>\n",
       "    <tr>\n",
       "      <th>2</th>\n",
       "      <td>1949-03</td>\n",
       "      <td>132</td>\n",
       "    </tr>\n",
       "    <tr>\n",
       "      <th>3</th>\n",
       "      <td>1949-04</td>\n",
       "      <td>129</td>\n",
       "    </tr>\n",
       "    <tr>\n",
       "      <th>4</th>\n",
       "      <td>1949-05</td>\n",
       "      <td>121</td>\n",
       "    </tr>\n",
       "    <tr>\n",
       "      <th>...</th>\n",
       "      <td>...</td>\n",
       "      <td>...</td>\n",
       "    </tr>\n",
       "    <tr>\n",
       "      <th>139</th>\n",
       "      <td>1960-08</td>\n",
       "      <td>606</td>\n",
       "    </tr>\n",
       "    <tr>\n",
       "      <th>140</th>\n",
       "      <td>1960-09</td>\n",
       "      <td>508</td>\n",
       "    </tr>\n",
       "    <tr>\n",
       "      <th>141</th>\n",
       "      <td>1960-10</td>\n",
       "      <td>461</td>\n",
       "    </tr>\n",
       "    <tr>\n",
       "      <th>142</th>\n",
       "      <td>1960-11</td>\n",
       "      <td>390</td>\n",
       "    </tr>\n",
       "    <tr>\n",
       "      <th>143</th>\n",
       "      <td>1960-12</td>\n",
       "      <td>432</td>\n",
       "    </tr>\n",
       "  </tbody>\n",
       "</table>\n",
       "<p>144 rows × 2 columns</p>\n",
       "</div>"
      ],
      "text/plain": [
       "       Month  #Passengers\n",
       "0    1949-01          112\n",
       "1    1949-02          118\n",
       "2    1949-03          132\n",
       "3    1949-04          129\n",
       "4    1949-05          121\n",
       "..       ...          ...\n",
       "139  1960-08          606\n",
       "140  1960-09          508\n",
       "141  1960-10          461\n",
       "142  1960-11          390\n",
       "143  1960-12          432\n",
       "\n",
       "[144 rows x 2 columns]"
      ]
     },
     "execution_count": 15,
     "metadata": {},
     "output_type": "execute_result"
    }
   ],
   "source": [
    "# Importando a base de dados\n",
    "serie2 = pd.read_csv(\"AirPassengers.csv\")\n",
    "serie2"
   ]
  },
  {
   "cell_type": "code",
   "execution_count": 16,
   "id": "bb818247",
   "metadata": {},
   "outputs": [
    {
     "data": {
      "text/plain": [
       "Month\n",
       "1949-01    112\n",
       "1949-02    118\n",
       "1949-03    132\n",
       "1949-04    129\n",
       "1949-05    121\n",
       "          ... \n",
       "1960-08    606\n",
       "1960-09    508\n",
       "1960-10    461\n",
       "1960-11    390\n",
       "1960-12    432\n",
       "Length: 144, dtype: int64"
      ]
     },
     "execution_count": 16,
     "metadata": {},
     "output_type": "execute_result"
    }
   ],
   "source": [
    "# Criando a Serie\n",
    "serie2 = pd.Series(serie2['#Passengers'].values, index=serie2['Month'])\n",
    "serie2"
   ]
  },
  {
   "cell_type": "code",
   "execution_count": 17,
   "id": "f0f75925",
   "metadata": {},
   "outputs": [
    {
     "data": {
      "image/png": "[encoded data removed]",
      "text/plain": [
       "<Figure size 1500x600 with 1 Axes>"
      ]
     },
     "metadata": {},
     "output_type": "display_data"
    }
   ],
   "source": [
    "# Plot Grafico\n",
    "serie2.plot();"
   ]
  },
  {
   "cell_type": "markdown",
   "id": "8d134fd2",
   "metadata": {},
   "source": [
    "# TESTE DE ESTACIONARIDADE"
   ]
  },
  {
   "cell_type": "code",
   "execution_count": 18,
   "id": "0aefc250",
   "metadata": {},
   "outputs": [],
   "source": [
    "import statsmodels.tsa.stattools"
   ]
  },
  {
   "cell_type": "markdown",
   "id": "e19268a6",
   "metadata": {},
   "source": [
    "**Teste KPSS (Kwiatkowski-Phillips-Schmidt-Shin)**\n",
    "\n",
    "    Ho = Não estacionario: Estatistica do Teste > valor critico\n",
    "    Ha = É Estationario: Estatistica do teste < valor critico"
   ]
  },
  {
   "cell_type": "code",
   "execution_count": 19,
   "id": "a4ee96c3",
   "metadata": {},
   "outputs": [
    {
     "name": "stdout",
     "output_type": "stream",
     "text": [
      "Estatistica do teste: 0.0685962789581985\n",
      "P-valor: 0.01\n",
      "Valores Criticos: \n",
      "10%: 0.347\n",
      "5%: 0.463\n",
      "2.5%: 0.574\n",
      "1%: 0.739\n"
     ]
    },
    {
     "name": "stderr",
     "output_type": "stream",
     "text": [
      "C:\\Users\\franc\\anaconda3\\envs\\Data-Science\\lib\\site-packages\\statsmodels\\tsa\\stattools.py:2018: InterpolationWarning: The test statistic is outside of the range of p-values available in the\n",
      "look-up table. The actual p-value is smaller than the p-value returned.\n",
      "\n",
      "  warnings.warn(\n"
     ]
    }
   ],
   "source": [
    "kpss2 = statsmodels.tsa.stattools.kpss(serie2, )\n",
    "print(f'Estatistica do teste: {kpss[0]}')\n",
    "print(f'P-valor: {kpss2[1]}')\n",
    "print(f'Valores Criticos: ')\n",
    "for chave, valor in kpss2[3].items():\n",
    "    print(f'{chave}: {valor}')"
   ]
  },
  {
   "cell_type": "markdown",
   "id": "3cea85eb",
   "metadata": {},
   "source": [
    "**Teste df (Dickey Fuller)**\n",
    "\n",
    "Ho = não é estacionário: estatística do teste > valor crítico\n",
    "\n",
    "Ha = é estacionário:  estatística do teste < valor crítico"
   ]
  },
  {
   "cell_type": "code",
   "execution_count": 20,
   "id": "363c818f",
   "metadata": {},
   "outputs": [
    {
     "name": "stdout",
     "output_type": "stream",
     "text": [
      "Estatistica do teste: 0.8154\n",
      "P-valor: 0.9919\n",
      "Valores Criticos: \n",
      "1%: -3.4816817173418295\n",
      "5%: -2.8840418343195267\n",
      "10%: -2.578770059171598\n"
     ]
    }
   ],
   "source": [
    "df2 = statsmodels.tsa.stattools.adfuller(serie2)\n",
    "print(f'Estatistica do teste: {df2[0]:.4f}')\n",
    "print(f'P-valor: {df2[1]:.4f}')\n",
    "print('Valores Criticos: ')\n",
    "\n",
    "for chave, valor in df2[4].items():\n",
    "    print(f'{chave}: {valor}')"
   ]
  },
  {
   "cell_type": "code",
   "execution_count": null,
   "id": "c0e1fe3b",
   "metadata": {},
   "outputs": [],
   "source": []
  },
  {
   "cell_type": "code",
   "execution_count": null,
   "id": "29633a09",
   "metadata": {},
   "outputs": [],
   "source": []
  }
 ],
 "metadata": {
  "kernelspec": {
   "display_name": "Python 3 (ipykernel)",
   "language": "python",
   "name": "python3"
  },
  "language_info": {
   "codemirror_mode": {
    "name": "ipython",
    "version": 3
   },
   "file_extension": ".py",
   "mimetype": "text/x-python",
   "name": "python",
   "nbconvert_exporter": "python",
   "pygments_lexer": "ipython3",
   "version": "3.10.4"
  }
 },
 "nbformat": 4,
 "nbformat_minor": 5
}
